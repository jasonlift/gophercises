{
 "cells": [
  {
   "cell_type": "markdown",
   "metadata": {},
   "source": [
    "## Use fmt for a string type description"
   ]
  },
  {
   "cell_type": "code",
   "execution_count": 3,
   "metadata": {},
   "outputs": [],
   "source": [
    "import \"fmt\""
   ]
  },
  {
   "cell_type": "code",
   "execution_count": 3,
   "metadata": {},
   "outputs": [
    {
     "name": "stdout",
     "output_type": "stream",
     "text": [
      "[]int\n"
     ]
    },
    {
     "data": {
      "text/plain": [
       "6 <nil>"
      ]
     },
     "execution_count": 3,
     "metadata": {},
     "output_type": "execute_result"
    }
   ],
   "source": [
    "var x interface{} = []int{1, 2, 3}\n",
    "xType := fmt.Sprintf(\"%T\", x)\n",
    "fmt.Println(xType) // \"[]int\""
   ]
  },
  {
   "cell_type": "markdown",
   "metadata": {},
   "source": [
    "## A type switch lets you choose between types"
   ]
  },
  {
   "cell_type": "code",
   "execution_count": 4,
   "metadata": {},
   "outputs": [
    {
     "name": "stdout",
     "output_type": "stream",
     "text": [
      "float64: 2.3\n"
     ]
    }
   ],
   "source": [
    "var x interface{} = 2.3\n",
    "switch v = x.(type) {\n",
    "case int:\n",
    "    fmt.Println(\"int:\", v)\n",
    "case float64:\n",
    "    fmt.Println(\"float64:\", v)\n",
    "default:\n",
    "    fmt.Println(\"unknown\")\n",
    "}\n",
    "// Output: float64: 2.3"
   ]
  },
  {
   "cell_type": "markdown",
   "metadata": {},
   "source": [
    "## Reflection gives full type information"
   ]
  },
  {
   "cell_type": "code",
   "execution_count": 5,
   "metadata": {},
   "outputs": [
    {
     "ename": "ERROR",
     "evalue": "repl.go:2:10: undefined \"reflect\" in reflect.TypeOf <*ast.SelectorExpr>",
     "output_type": "error",
     "traceback": [
      "repl.go:2:10: undefined \"reflect\" in reflect.TypeOf <*ast.SelectorExpr>"
     ]
    }
   ],
   "source": [
    "var x interface{} = []int{1, 2, 3}\n",
    "xType := reflect.TypeOf(x)\n",
    "xValue := reflect.ValueOf(x)\n",
    "fmt.Println(xType, xValue) // \"[]int [1 2 3]\""
   ]
  },
  {
   "cell_type": "code",
   "execution_count": null,
   "metadata": {},
   "outputs": [],
   "source": []
  }
 ],
 "metadata": {
  "kernelspec": {
   "display_name": "Go",
   "language": "go",
   "name": "gophernotes"
  },
  "language_info": {
   "codemirror_mode": "",
   "file_extension": ".go",
   "mimetype": "",
   "name": "go",
   "nbconvert_exporter": "",
   "pygments_lexer": "",
   "version": "go1.13.5"
  }
 },
 "nbformat": 4,
 "nbformat_minor": 2
}

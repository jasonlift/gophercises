{
 "cells": [
  {
   "cell_type": "markdown",
   "metadata": {},
   "source": [
    "[深度解密Go语言之关于 interface 的10个问题](https://www.cnblogs.com/qcrao-2018/p/10766091.html)"
   ]
  },
  {
   "cell_type": "markdown",
   "metadata": {},
   "source": [
    "# 结构体方法定义，接收者是T还是*T"
   ]
  },
  {
   "cell_type": "code",
   "execution_count": 1,
   "metadata": {},
   "outputs": [],
   "source": [
    "import \"fmt\""
   ]
  },
  {
   "cell_type": "code",
   "execution_count": 2,
   "metadata": {},
   "outputs": [],
   "source": [
    "type coder interface {\n",
    "    code()\n",
    "    debug()\n",
    "}\n",
    "\n",
    "type Gopher struct {\n",
    "    num      int\n",
    "    language string\n",
    "}\n",
    "\n",
    "func (p Gopher) code() {\n",
    "    p.num++\n",
    "    fmt.Printf(\"I am coding %s language, num is %d\\n\", p.language, p.num)\n",
    "}\n",
    "\n",
    "func (p *Gopher) debug() {\n",
    "    p.num++\n",
    "    fmt.Printf(\"I am debuging %s language, num is %d\\n\", p.language, p.num)\n",
    "}"
   ]
  },
  {
   "cell_type": "code",
   "execution_count": 3,
   "metadata": {},
   "outputs": [
    {
     "name": "stdout",
     "output_type": "stream",
     "text": [
      "I am coding Go language, num is 2\n",
      "I am debuging Go language, num is 2\n",
      "I am coding Go language, num is 3\n"
     ]
    }
   ],
   "source": [
    "// value invoke\n",
    "var c Gopher = Gopher{1, \"Go\"}\n",
    "c.code()\n",
    "c.debug()\n",
    "c.code()"
   ]
  },
  {
   "cell_type": "code",
   "execution_count": 4,
   "metadata": {},
   "outputs": [
    {
     "name": "stdout",
     "output_type": "stream",
     "text": [
      "I am coding Go language, num is 2\n",
      "I am debuging Go language, num is 2\n",
      "I am coding Go language, num is 3\n"
     ]
    }
   ],
   "source": [
    "// pointer invoke\n",
    "var c *Gopher = &Gopher{1, \"Go\"}\n",
    "c.code()\n",
    "c.debug()\n",
    "c.code()"
   ]
  },
  {
   "cell_type": "code",
   "execution_count": 5,
   "metadata": {},
   "outputs": [
    {
     "name": "stdout",
     "output_type": "stream",
     "text": [
      "I am coding Go language, num is 2\n",
      "I am debuging Go language, num is 2\n",
      "I am coding Go language, num is 3\n"
     ]
    }
   ],
   "source": [
    "// invoke using interface\n",
    "var c coder = &Gopher{1, \"Go\"}\n",
    "c.code()\n",
    "c.debug()\n",
    "c.code()"
   ]
  },
  {
   "cell_type": "markdown",
   "metadata": {},
   "source": [
    "## 接收者作为引用传递"
   ]
  },
  {
   "cell_type": "code",
   "execution_count": 8,
   "metadata": {},
   "outputs": [],
   "source": [
    "type Car struct {\n",
    "    name string\n",
    "    wheels int\n",
    "}\n",
    "\n",
    "func(c *Car) SetCarName(name string){\n",
    "   if c!=nil{\n",
    "      c.name=name\n",
    "   }\n",
    "}\n",
    " \n",
    "func (c *Car) GetCarName() string{\n",
    "   if c!=nil{\n",
    "      return c.name\n",
    "   }\n",
    "   return \"\"\n",
    "}\n",
    "\n",
    "func (c Car) SetCarName2(name string){\n",
    "    c.name=name\n",
    "}\n",
    " \n",
    "func (c Car) GetCarName2() string{\n",
    "    return c.name\n",
    "}"
   ]
  },
  {
   "cell_type": "code",
   "execution_count": 14,
   "metadata": {},
   "outputs": [
    {
     "name": "stdout",
     "output_type": "stream",
     "text": [
      "OldPointerCar\n",
      "OldValueCar\n"
     ]
    },
    {
     "data": {
      "text/plain": [
       "12 <nil>"
      ]
     },
     "execution_count": 14,
     "metadata": {},
     "output_type": "execute_result"
    }
   ],
   "source": [
    "Pcar := new(Car)\n",
    "Pcar.name = \"OldPointerCar\"\n",
    "Vcar := Car{\n",
    "          name: \"OldValueCar\",\n",
    "}\n",
    "\n",
    "Pcar.SetCarName(\"NewPointerCar\")// 正常调用\n",
    "fmt.Println(Pcar.GetCarName())// Output: NewPointerCar，符合预期\n",
    "Vcar.SetCarName(\"NewValueCar\")// 编译器会自动进行解引用后，再调用对应方法，从而达到改变对应值的效果       \n",
    "fmt.Println(Vcar.GetCarName()) //Output:NewValueCar，符合预期"
   ]
  },
  {
   "cell_type": "code",
   "execution_count": 15,
   "metadata": {},
   "outputs": [
    {
     "name": "stdout",
     "output_type": "stream",
     "text": [
      "OldPointerCar\n",
      "OldValueCar\n"
     ]
    },
    {
     "data": {
      "text/plain": [
       "12 <nil>"
      ]
     },
     "execution_count": 15,
     "metadata": {},
     "output_type": "execute_result"
    }
   ],
   "source": [
    "Pcar.SetCarName2(\"NewPointerCar\")// 编译器会自动进行解引用后，再进行值拷贝，最后调用对应方法，无法在方法内部达到修改外部recv值的效果。\n",
    "fmt.Println(Pcar.GetCarName2())// Output: OldPointerCar，符合预期\n",
    "Vcar.SetCarName2(\"NewValueCar\")// 正常调用\n",
    "fmt.Println(Vcar.GetCarName2()) //Output:OldValueCar，符合预期"
   ]
  },
  {
   "cell_type": "code",
   "execution_count": null,
   "metadata": {},
   "outputs": [],
   "source": []
  }
 ],
 "metadata": {
  "kernelspec": {
   "display_name": "Go",
   "language": "go",
   "name": "gophernotes"
  },
  "language_info": {
   "codemirror_mode": "",
   "file_extension": ".go",
   "mimetype": "",
   "name": "go",
   "nbconvert_exporter": "",
   "pygments_lexer": "",
   "version": "go1.13.5"
  }
 },
 "nbformat": 4,
 "nbformat_minor": 2
}

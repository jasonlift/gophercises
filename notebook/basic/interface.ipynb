{
 "cells": [
  {
   "cell_type": "markdown",
   "metadata": {},
   "source": [
    "# 一致性检查"
   ]
  },
  {
   "cell_type": "code",
   "execution_count": 1,
   "metadata": {},
   "outputs": [],
   "source": [
    "type UID interface {\n",
    "    GetUID() int\n",
    "}\n",
    "\n",
    "type named interface {\n",
    "    getName() string\n",
    "}\n",
    "\n",
    "type flower struct {\n",
    "    Name string\n",
    "}\n",
    "\n",
    "func (f flower) getName() string {\n",
    "    return f.Name\n",
    "}"
   ]
  },
  {
   "cell_type": "code",
   "execution_count": 2,
   "metadata": {},
   "outputs": [],
   "source": [
    "var rose = flower{\"Rose\"}\n",
    "var i interface{} = rose"
   ]
  },
  {
   "cell_type": "code",
   "execution_count": 4,
   "metadata": {},
   "outputs": [
    {
     "ename": "ERROR",
     "evalue": "reflect: non-interface type passed to Type.Implements",
     "output_type": "error",
     "traceback": [
      "reflect: non-interface type passed to Type.Implements"
     ]
    }
   ],
   "source": [
    "_, isPId := i.(UID)"
   ]
  },
  {
   "cell_type": "code",
   "execution_count": 6,
   "metadata": {},
   "outputs": [
    {
     "data": {
      "text/plain": [
       "false"
      ]
     },
     "execution_count": 6,
     "metadata": {},
     "output_type": "execute_result"
    }
   ],
   "source": [
    "isPId"
   ]
  },
  {
   "cell_type": "code",
   "execution_count": 8,
   "metadata": {},
   "outputs": [
    {
     "ename": "ERROR",
     "evalue": "reflect: non-interface type passed to Type.Implements",
     "output_type": "error",
     "traceback": [
      "reflect: non-interface type passed to Type.Implements"
     ]
    }
   ],
   "source": [
    "_, isNamed := i.(named)"
   ]
  },
  {
   "cell_type": "code",
   "execution_count": 9,
   "metadata": {},
   "outputs": [
    {
     "data": {
      "text/plain": [
       "false"
      ]
     },
     "execution_count": 9,
     "metadata": {},
     "output_type": "execute_result"
    }
   ],
   "source": [
    "isPId"
   ]
  },
  {
   "cell_type": "markdown",
   "metadata": {},
   "source": [
    "# 接口继承"
   ]
  },
  {
   "cell_type": "code",
   "execution_count": 30,
   "metadata": {},
   "outputs": [],
   "source": [
    "type vehicle interface {\n",
    "    getMaxSpeed() int\n",
    "}"
   ]
  },
  {
   "cell_type": "code",
   "execution_count": 31,
   "metadata": {},
   "outputs": [
    {
     "ename": "ERROR",
     "evalue": "go/parser internal error: identifier already declared or resolved",
     "output_type": "error",
     "traceback": [
      "go/parser internal error: identifier already declared or resolved"
     ]
    }
   ],
   "source": [
    "type truck interface {\n",
    "    vehicle\n",
    "    getCapacity() int\n",
    "}"
   ]
  },
  {
   "cell_type": "code",
   "execution_count": 21,
   "metadata": {},
   "outputs": [],
   "source": [
    "type kamaz struct {}\n",
    "\n",
    "func (k kamaz) getMaxSpeed() int {\n",
    "    return 85\n",
    "}\n",
    "\n",
    "func (k kamaz) getCapacity() int {\n",
    "    return 8000\n",
    "}"
   ]
  },
  {
   "cell_type": "code",
   "execution_count": 28,
   "metadata": {},
   "outputs": [],
   "source": [
    "var k = kamaz{}\n",
    "var capacity = k.getCapacity()\n",
    "var v = vehicle(k)\n",
    "var maxSpeed = v.getMaxSpeed()"
   ]
  },
  {
   "cell_type": "code",
   "execution_count": 23,
   "metadata": {},
   "outputs": [
    {
     "data": {
      "text/plain": [
       "85"
      ]
     },
     "execution_count": 23,
     "metadata": {},
     "output_type": "execute_result"
    }
   ],
   "source": [
    "maxSpeed"
   ]
  },
  {
   "cell_type": "code",
   "execution_count": 29,
   "metadata": {},
   "outputs": [
    {
     "data": {
      "text/plain": [
       "8000"
      ]
     },
     "execution_count": 29,
     "metadata": {},
     "output_type": "execute_result"
    }
   ],
   "source": [
    "capacity"
   ]
  },
  {
   "cell_type": "markdown",
   "metadata": {},
   "source": [
    "# 接口集合"
   ]
  },
  {
   "cell_type": "code",
   "execution_count": 32,
   "metadata": {},
   "outputs": [],
   "source": [
    "type named interface {\n",
    "    getName() string\n",
    "}\n",
    "\n",
    "type Sity struct {\n",
    "    Name string\n",
    "}\n",
    "\n",
    "func (s Sity) getName() string {\n",
    "    return s.Name\n",
    "}\n",
    "\n",
    "type Star struct {\n",
    "    Name string\n",
    "}\n",
    "\n",
    "func (s Star) getName() string {\n",
    "    return s.Name\n",
    "}"
   ]
  },
  {
   "cell_type": "code",
   "execution_count": 33,
   "metadata": {},
   "outputs": [],
   "source": [
    "var rows = []named {\n",
    "    Sity{\"Rome\"},\n",
    "    Star{\"Sirius\"},\n",
    "}"
   ]
  },
  {
   "cell_type": "code",
   "execution_count": 34,
   "metadata": {},
   "outputs": [],
   "source": [
    "var list = \"\""
   ]
  },
  {
   "cell_type": "code",
   "execution_count": 35,
   "metadata": {},
   "outputs": [],
   "source": [
    "for _, row := range rows {\n",
    "    if len(list) > 0 {\n",
    "        list += \", \"\n",
    "    }\n",
    "    list += row.getName()\n",
    "}"
   ]
  },
  {
   "cell_type": "code",
   "execution_count": 36,
   "metadata": {},
   "outputs": [
    {
     "data": {
      "text/plain": [
       "Rome, Sirius"
      ]
     },
     "execution_count": 36,
     "metadata": {},
     "output_type": "execute_result"
    }
   ],
   "source": [
    "list"
   ]
  },
  {
   "cell_type": "markdown",
   "metadata": {},
   "source": [
    "# 方法要求"
   ]
  },
  {
   "cell_type": "code",
   "execution_count": 37,
   "metadata": {},
   "outputs": [],
   "source": [
    "type car interface {\n",
    "    startEngine() bool\n",
    "    stopEngine()\n",
    "}\n",
    "\n",
    "type sportCar struct {\n",
    "    started bool\n",
    "}\n",
    "\n",
    "func (c *sportCar) startEngine() bool {\n",
    "    if c.started {\n",
    "        rt\n",
    "    }\n",
    "}"
   ]
  },
  {
   "cell_type": "code",
   "execution_count": null,
   "metadata": {},
   "outputs": [],
   "source": []
  }
 ],
 "metadata": {
  "kernelspec": {
   "display_name": "Go",
   "language": "go",
   "name": "gophernotes"
  },
  "language_info": {
   "codemirror_mode": "",
   "file_extension": ".go",
   "mimetype": "",
   "name": "go",
   "nbconvert_exporter": "",
   "pygments_lexer": "",
   "version": "go1.13.5"
  }
 },
 "nbformat": 4,
 "nbformat_minor": 2
}
